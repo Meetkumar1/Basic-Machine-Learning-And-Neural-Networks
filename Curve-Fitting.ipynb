{
 "cells": [
  {
   "cell_type": "code",
   "execution_count": 1,
   "metadata": {},
   "outputs": [],
   "source": [
    "import numpy as np\n",
    "from matplotlib import pyplot as plt"
   ]
  },
  {
   "cell_type": "markdown",
   "metadata": {},
   "source": [
    "# Generic functions"
   ]
  },
  {
   "cell_type": "code",
   "execution_count": 2,
   "metadata": {},
   "outputs": [],
   "source": [
    "def add_noise(y):\n",
    "    \"\"\"\n",
    "    Adds random noise to a set of points\n",
    "    \"\"\"\n",
    "    noise_func = np.vectorize(lambda x: x + np.random.uniform(-np.max(y)/4, np.max(y)/4, 1))\n",
    "    return noise_func(y)"
   ]
  },
  {
   "cell_type": "markdown",
   "metadata": {},
   "source": [
    "# Generating Linear Data"
   ]
  },
  {
   "cell_type": "code",
   "execution_count": 3,
   "metadata": {},
   "outputs": [],
   "source": [
    "def generate_linear_points(start, stop, number, a=3, b=6, c=15 ):\n",
    "    \"\"\"\n",
    "    Generates points along a line with the equation\n",
    "    y = mx + b (parent function)\n",
    "    y = a(x^2) + bx +c\n",
    "    \"\"\"\n",
    "    x = np.linspace(start, stop, num=number)\n",
    "    linear_function = np.vectorize(lambda x: a*(x*x) + (b*x) + c )\n",
    "    y = linear_function(x)\n",
    "    return (x, y)"
   ]
  },
  {
   "cell_type": "code",
   "execution_count": 4,
   "metadata": {},
   "outputs": [],
   "source": [
    "def get_linear_y_values(X, a=None, b=None, c=None):\n",
    "    return a*(X*X) + (b*X) + c"
   ]
  },
  {
   "cell_type": "code",
   "execution_count": null,
   "metadata": {},
   "outputs": [],
   "source": []
  },
  {
   "cell_type": "code",
   "execution_count": 5,
   "metadata": {},
   "outputs": [],
   "source": [
    "## Generate points on a line with x values between 1 and 50\n",
    "## with a = 1 and b = 6 and c = 10\n",
    "X, _Y = generate_linear_points(0, 50, 100, a=1, b=6, c=10)\n",
    "## Add random noise to the y values\n",
    "Y = add_noise(_Y)"
   ]
  },
  {
   "cell_type": "code",
   "execution_count": 8,
   "metadata": {},
   "outputs": [
    {
     "data": {
      "text/plain": [
       "<matplotlib.collections.PathCollection at 0x7f517565b5d0>"
      ]
     },
     "execution_count": 8,
     "metadata": {},
     "output_type": "execute_result"
    },
    {
     "data": {
      "image/png": "[encoded data removed]",
      "text/plain": [
       "<matplotlib.figure.Figure at 0x7f5177966fd0>"
      ]
     },
     "metadata": {},
     "output_type": "display_data"
    }
   ],
   "source": [
    "plt.scatter(X, Y)"
   ]
  },
  {
   "cell_type": "markdown",
   "metadata": {},
   "source": [
    "# Determining Gradients"
   ]
  },
  {
   "cell_type": "markdown",
   "metadata": {},
   "source": [
    "Lets define a Square loss function as, where $Y$ is the real value and $mx + b$ or $\\hat{Y}$ is the predicted value and $n$ is the number of points in the data"
   ]
  },
  {
   "cell_type": "markdown",
   "metadata": {},
   "source": [
    "$$L = \\sum_{i=0}^{n}{(Y_i - ax_i^2 - bx_i -c)^2}$$"
   ]
  },
  {
   "cell_type": "markdown",
   "metadata": {},
   "source": [
    "then the partial differntials with respect to $m$ and $b$ are the following"
   ]
  },
  {
   "cell_type": "markdown",
   "metadata": {},
   "source": [
    "$$\\frac{\\delta L}{\\delta a} = \\sum_{i=0}^{n}{2x_i^2 (ax_i^2 + bx_i + c - Y_i)}$$"
   ]
  },
  {
   "cell_type": "markdown",
   "metadata": {},
   "source": [
    "and"
   ]
  },
  {
   "cell_type": "markdown",
   "metadata": {},
   "source": [
    "$$\\frac{\\delta L}{\\delta b} = \\sum_{i=0}^{n}{2x_i (ax_i^2 + bx_i + c - Y_i)}$$"
   ]
  },
  {
   "cell_type": "markdown",
   "metadata": {},
   "source": [
    "and"
   ]
  },
  {
   "cell_type": "markdown",
   "metadata": {},
   "source": [
    "$$\\frac{\\delta L}{\\delta c} = \\sum_{i=0}^{n}{2 (ax_i^2 + bx_i + c - Y_i)}$$"
   ]
  },
  {
   "cell_type": "markdown",
   "metadata": {},
   "source": [
    "the three functions can be re-written as "
   ]
  },
  {
   "cell_type": "markdown",
   "metadata": {},
   "source": [
    "$$\\frac{\\delta L}{\\delta a} = \\sum_{i=0}^{n}{2x_i^2 (\\hat{Y_i} - Y_i)}$$"
   ]
  },
  {
   "cell_type": "markdown",
   "metadata": {},
   "source": [
    "$$\\frac{\\delta L}{\\delta b} = \\sum_{i=0}^{n}{2x_i(\\hat{Y_i} - Y_i)}$$"
   ]
  },
  {
   "cell_type": "markdown",
   "metadata": {},
   "source": [
    "$$\\frac{\\delta L}{\\delta c} = \\sum_{i=0}^{n}{2(\\hat{Y_i} - Y_i)}$$"
   ]
  },
  {
   "cell_type": "markdown",
   "metadata": {},
   "source": [
    "#### you can find partial derivatives for virutally any function that you can think of using https://www.wolframalpha.com/examples/math/calculus/"
   ]
  },
  {
   "cell_type": "code",
   "execution_count": 305,
   "metadata": {},
   "outputs": [],
   "source": [
    "def get_linear_gradients_mse(X, Y, Y_hat):\n",
    "    \"\"\"\n",
    "    returns gradients for the three variables a, b and c assuming mean square error\n",
    "    for a quadratic equation y = a(x^2) + bx + c\n",
    "    \"\"\"\n",
    "    # dL/da\n",
    "    a_gradient = np.sum(2*(X**2)*(Y_hat - Y))/len(Y) \n",
    "    # dL/db\n",
    "    b_gradient = np.sum(2*X*(Y_hat - Y))/len(Y)\n",
    "    # dL/dc\n",
    "    c_gradient = np.sum(2*(Y_hat - Y))/len(Y)\n",
    "    return a_gradient, b_gradient, c_gradient"
   ]
  },
  {
   "cell_type": "markdown",
   "metadata": {},
   "source": [
    "# Minimization"
   ]
  },
  {
   "cell_type": "code",
   "execution_count": 306,
   "metadata": {
    "scrolled": true
   },
   "outputs": [
    {
     "name": "stdout",
     "output_type": "stream",
     "text": [
      "Estimates after 1000000 iterations: a = 0.939096535619, b = 6.7575984965, c = 30.7514307406\n"
     ]
    },
    {
     "data": {
      "image/png": "[encoded data removed]",
      "text/plain": [
       "<matplotlib.figure.Figure at 0x7f73146113d0>"
      ]
     },
     "metadata": {},
     "output_type": "display_data"
    }
   ],
   "source": [
    "# Initial Values\n",
    "a = 10\n",
    "b = 15\n",
    "c = 30\n",
    "# Learning rate\n",
    "alpha = 0.0000001\n",
    "# Number of iterations\n",
    "N = 1000000\n",
    "for i in range(N):\n",
    "    Y_hat = get_linear_y_values(X, a, b, c)\n",
    "    a_grad, b_grad, c_grad = get_linear_gradients_mse(X, Y, Y_hat)\n",
    "    # update a,b,c for the next iteration\n",
    "    a = a - alpha * a_grad\n",
    "    b = b - alpha * b_grad\n",
    "    c = c - alpha * c_grad\n",
    "# The final value of \n",
    "plt.plot(X, get_linear_y_values(X, a, b, c), 'r')\n",
    "plt.scatter(X, Y)\n",
    "print \"Estimates after {} iterations: a = {}, b = {}, c = {}\".format(N, a, b, c)"
   ]
  },
  {
   "cell_type": "markdown",
   "metadata": {},
   "source": [
    "You can play around with the `initial values`, `learning rate`, `number of iterations` etc \n",
    "to get an idea of how gradient descent works in practice. "
   ]
  },
  {
   "cell_type": "markdown",
   "metadata": {},
   "source": [
    "# Same problem using different loss function"
   ]
  },
  {
   "cell_type": "markdown",
   "metadata": {},
   "source": [
    "# Determining Gradients (Binomial logistic loss)"
   ]
  },
  {
   "cell_type": "markdown",
   "metadata": {},
   "source": [
    "Lets define a Binomial logistic loss function as, where $Y$ is the real value and $ax^2 + bx + c$ or $\\hat{Y}$ is the predicted value and $n$ is the number of points in the data"
   ]
  },
  {
   "cell_type": "markdown",
   "metadata": {},
   "source": [
    "$$L = \\sum_{i=0}^{n}{-Y_i log(ax^2 + bx + c) - (1-Y_i) log(1-(ax^2 + bx + c))}$$"
   ]
  },
  {
   "cell_type": "markdown",
   "metadata": {},
   "source": [
    "then the partial differntials with respect to $a$, $b$ and $c$ are the following"
   ]
  },
  {
   "cell_type": "markdown",
   "metadata": {},
   "source": [
    "$$\\frac{\\delta L}{\\delta b} = \\sum_{i=0}^{n}{\\frac{x_i^2 (ax_i^2 + bx_i + c - Y_i)}{(1-ax_i^2 + bx_i + c)(ax_i^2 + bx_i + c)}}$$"
   ]
  },
  {
   "cell_type": "markdown",
   "metadata": {},
   "source": [
    "and"
   ]
  },
  {
   "cell_type": "markdown",
   "metadata": {},
   "source": [
    "$$\\frac{\\delta L}{\\delta b} = \\sum_{i=0}^{n}{\\frac{x_i (ax_i^2 + bx_i + c - Y_i)}{(1-ax_i^2 + bx_i + c)(ax_i^2 + bx_i + c)}}$$"
   ]
  },
  {
   "cell_type": "markdown",
   "metadata": {},
   "source": [
    "and"
   ]
  },
  {
   "cell_type": "markdown",
   "metadata": {},
   "source": [
    "$$\\frac{\\delta L}{\\delta b} = \\sum_{i=0}^{n}{\\frac{ (ax_i^2 + bx_i + c - Y_i)}{(1-ax_i^2 + bx_i + c)(ax_i^2 + bx_i + c)}}$$"
   ]
  },
  {
   "cell_type": "markdown",
   "metadata": {},
   "source": [
    "the three functions can be re-written as "
   ]
  },
  {
   "cell_type": "markdown",
   "metadata": {},
   "source": [
    "$$\\frac{\\delta L}{\\delta a} = \\sum_{i=0}^{n}{\\frac{x_i^2 (\\hat{Y_i} - Y_i)}{(1-\\hat{Y_i})\\hat{Y_i}}}$$"
   ]
  },
  {
   "cell_type": "markdown",
   "metadata": {},
   "source": [
    "$$\\frac{\\delta L}{\\delta a} = \\sum_{i=0}^{n}{\\frac{x_i (\\hat{Y_i} - Y_i)}{(1-\\hat{Y_i})\\hat{Y_i}}}$$"
   ]
  },
  {
   "cell_type": "markdown",
   "metadata": {},
   "source": [
    "$$\\frac{\\delta L}{\\delta a} = \\sum_{i=0}^{n}{\\frac{ (\\hat{Y_i} - Y_i)}{(1-\\hat{Y_i})\\hat{Y_i}}}$$"
   ]
  },
  {
   "cell_type": "code",
   "execution_count": 20,
   "metadata": {},
   "outputs": [],
   "source": [
    "def get_linear_y_values_2(X, a2=None, b2=None, c2=None):\n",
    "    return a2*(X*X) + (b2*X) + c2"
   ]
  },
  {
   "cell_type": "code",
   "execution_count": 21,
   "metadata": {},
   "outputs": [],
   "source": [
    "def get_linear_gradients_mse_2(X, Y, Y_hat):\n",
    "    \"\"\"\n",
    "    returns gradients for the three variables a, b and c using binomial logistic loss \n",
    "    for a quadratic equation y = a(x^2) + bx + c\n",
    "    \"\"\"\n",
    "    # dL/da\n",
    "    a_gradient = np.sum(((X**2)*(Y_hat - Y))/((1-Y_hat)*Y_hat)) \n",
    "    # dL/db\n",
    "    b_gradient = np.sum((X*(Y_hat - Y))/((1-Y_hat)*Y_hat))\n",
    "    # dL/dc\n",
    "    c_gradient = np.sum(((Y_hat - Y))/((1-Y_hat)*Y_hat))\n",
    "    return a_gradient, b_gradient, c_gradient"
   ]
  },
  {
   "cell_type": "code",
   "execution_count": 32,
   "metadata": {},
   "outputs": [
    {
     "name": "stdout",
     "output_type": "stream",
     "text": [
      "Estimates after 100000 iterations: a = 1.01195556873, b = 4.98977728184, c = 9.9412700523\n"
     ]
    },
    {
     "data": {
      "image/png": "[encoded data removed]",
      "text/plain": [
       "<matplotlib.figure.Figure at 0x7f51779874d0>"
      ]
     },
     "metadata": {},
     "output_type": "display_data"
    }
   ],
   "source": [
    "# Initial Values\n",
    "a2 = 1\n",
    "b2 = 5\n",
    "c2 = 10\n",
    "# Learning rate\n",
    "alpha2 = 0.0000001\n",
    "# Number of iterations\n",
    "N2 = 100000\n",
    "for i in range(N2):\n",
    "    Y_hat = get_linear_y_values_2(X, a2, b2, c2)\n",
    "    a_grad2, b_grad2, c_grad2 = get_linear_gradients_mse_2(X, Y, Y_hat)\n",
    "    # update a,b,c for the next iteration\n",
    "    a2 = a2 - alpha2 * a_grad2\n",
    "    b2 = b2 - alpha2 * b_grad2\n",
    "    c2 = c2 - alpha2 * c_grad2\n",
    "# The final value of \n",
    "plt.plot(X, get_linear_y_values(X, a2, b2, c2), 'r')\n",
    "plt.scatter(X, Y)\n",
    "print \"Estimates after {} iterations: a = {}, b = {}, c = {}\".format(N2, a2, b2, c2)"
   ]
  },
  {
   "cell_type": "code",
   "execution_count": null,
   "metadata": {},
   "outputs": [],
   "source": []
  }
 ],
 "metadata": {
  "kernelspec": {
   "display_name": "Python 2",
   "language": "python",
   "name": "python2"
  },
  "language_info": {
   "codemirror_mode": {
    "name": "ipython",
    "version": 2
   },
   "file_extension": ".py",
   "mimetype": "text/x-python",
   "name": "python",
   "nbconvert_exporter": "python",
   "pygments_lexer": "ipython2",
   "version": "2.7.12"
  }
 },
 "nbformat": 4,
 "nbformat_minor": 2
}
