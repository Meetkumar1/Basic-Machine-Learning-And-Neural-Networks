{
 "cells": [
  {
   "cell_type": "code",
   "execution_count": 8,
   "metadata": {},
   "outputs": [],
   "source": [
    "import numpy as np"
   ]
  },
  {
   "cell_type": "code",
   "execution_count": 9,
   "metadata": {},
   "outputs": [],
   "source": [
    "class Node(object):\n",
    "    \"\"\"\n",
    "    Base object for all inputs and outputs.\n",
    "    \"\"\"\n",
    "    def __init__(self, value, grad):\n",
    "        self.value = value\n",
    "        self.gradient = grad"
   ]
  },
  {
   "cell_type": "code",
   "execution_count": 10,
   "metadata": {},
   "outputs": [],
   "source": [
    "class MultiplyNode(object):\n",
    "    \"\"\"\n",
    "    Multiplies two inputs\n",
    "    \"\"\"\n",
    "    def forward(self, *arr):\n",
    "        self.inputs = []\n",
    "        \n",
    "        for i in arr:\n",
    "            self.inputs.append(i)\n",
    "        \n",
    "        self.output = Node(self.inputs[0].value * self.inputs[1].value, 0)\n",
    "        return self.output\n",
    "    \n",
    "    def backward(self):\n",
    "        self.inputs[0].gradient = self.inputs[1].value * self.output.gradient\n",
    "        self.inputs[1].gradient = self.inputs[0].value * self.output.gradient"
   ]
  },
  {
   "cell_type": "code",
   "execution_count": 11,
   "metadata": {},
   "outputs": [],
   "source": [
    "class AddNode(object):    \n",
    "    \"\"\"\n",
    "    Adds two inputs x1 and x2.\n",
    "    \"\"\"\n",
    "    def forward(self, nodes):\n",
    "        self.inputs = nodes\n",
    "             \n",
    "        self.output = Node(self.inputs[0].value + self.inputs[1].value, 0)\n",
    "        return self.output\n",
    "    \n",
    "    def backward(self):\n",
    "        self.inputs[0].gradient = 1 * self.output.gradient\n",
    "        self.inputs[1].gradient = 1 * self.output.gradient"
   ]
  },
  {
   "cell_type": "code",
   "execution_count": 12,
   "metadata": {},
   "outputs": [],
   "source": [
    "class SigmoidNode(object):\n",
    "    \"\"\"\n",
    "    Adds a sigmoid non-linearity to a single input\n",
    "    \"\"\"\n",
    "    def forward(self, x):\n",
    "        self.x = x\n",
    "        self.output = Node(1/(1 + np.exp(-1 * self.x.value)), 0.0)\n",
    "        return self.output\n",
    "        \n",
    "    def backward(self):\n",
    "        s = 1/(1 + np.exp(-1 * self.x.value))\n",
    "        self.x.gradient = (s * (1 - s)) * self.output.gradient"
   ]
  },
  {
   "cell_type": "code",
   "execution_count": 13,
   "metadata": {},
   "outputs": [],
   "source": [
    "class Perceptron(object):\n",
    "    def __init__(self, alpha =0.01,x1 = 0,x2=0, **args):\n",
    "        ### Hyper parameters\n",
    "        self.alpha = alpha\n",
    "        ### Input and Output variables\n",
    "        self.inputs = [Node(x1,0.0),Node(x2,0.0)]\n",
    "        for i in args:\n",
    "            input = Node(args[i],0.0)\n",
    "            self.inputs.append(input)\n",
    "        ### Initializing weights/bias to a random float between -1 and 1.\n",
    "        self.weights = []\n",
    "        for i in self.inputs:\n",
    "            weight = Node(np.random.uniform(-1,1),0.0)\n",
    "            self.weights.append(weight) \n",
    "        ### Initialize bias\n",
    "        self.bias = Node(np.random.uniform(-1,1),0.0)\n",
    "        ### Initialize operators nodes required \n",
    "        ### for processing the inputs within a perceptron\n",
    "        self.initialize_operators()\n",
    "        \n",
    "    def initialize_operators(self):\n",
    "        self.input_mul_w =[]\n",
    "        for i in range(len(self.inputs)):\n",
    "            self.input_mul_w.append(MultiplyNode())\n",
    "        self.sum_wi = AddNode()\n",
    "        self.sum_wi_b = AddNode()\n",
    "        self.sigmoid = SigmoidNode()\n",
    "        \n",
    "        \n",
    "    def forward(self):\n",
    "        self.weighted_inputs = []\n",
    "        for i in range(len(self.input_mul_w)):            \n",
    "            input_mul_weight = self.input_mul_w[i].forward(self.inputs[i],self.weights[i])\n",
    "            self.weighted_inputs.append(input_mul_weight)\n",
    "        self.sum_w_i = self.sum_wi.forward(self.weighted_inputs)\n",
    "        self.sum_w_i_b = self.sum_wi_b.forward([self.sum_w_i,self.bias])\n",
    "        self.sigmoid.forward(self.sum_w_i_b)\n",
    "        \n",
    "    \n",
    "    def backward(self):\n",
    "        self.sigmoid.backward()\n",
    "        self.sum_wi_b.backward()\n",
    "        self.sum_wi.backward()\n",
    "        for i in range(len(self.weighted_inputs)):\n",
    "            self.input_mul_w[i].backward()\n",
    "            \n",
    "    def update(self):\n",
    "        for i in range(len(self.weights)):\n",
    "            self.weights[i].value -= self.alpha * self.weights[i].gradient\n",
    "            \n",
    "        self.bias.value -= self.alpha * self.bias.gradient"
   ]
  },
  {
   "cell_type": "code",
   "execution_count": 14,
   "metadata": {},
   "outputs": [
    {
     "data": {
      "text/plain": [
       "0.3481972639817122"
      ]
     },
     "execution_count": 14,
     "metadata": {},
     "output_type": "execute_result"
    }
   ],
   "source": [
    "p1 = Perceptron(alpha = 0.1, x1 = 3, x2 = 5)\n",
    "p2 = Perceptron()\n",
    "# number of iterations\n",
    "N = 100000\n",
    "# expected output \n",
    "target = 0.3481972639817\n",
    "\n",
    "for i in range(N):\n",
    "    \n",
    "    p1.forward()\n",
    "    p2.x1=Node(p1.sigmoid.output.value, 0.0)\n",
    "    p2.forward()\n",
    "    p2.forward()\n",
    "    p2.sigmoid.output.gradient = -2 * (target - p2.sigmoid.output.value)\n",
    "    p2.backward()\n",
    "    p2.update()\n",
    "    p1.backward()\n",
    "    p1.update()\n",
    "\n",
    "p2.sigmoid.output.value"
   ]
  },
  {
   "cell_type": "code",
   "execution_count": null,
   "metadata": {},
   "outputs": [],
   "source": []
  },
  {
   "cell_type": "code",
   "execution_count": null,
   "metadata": {},
   "outputs": [],
   "source": []
  }
 ],
 "metadata": {
  "kernelspec": {
   "display_name": "Python 2",
   "language": "python",
   "name": "python2"
  },
  "language_info": {
   "codemirror_mode": {
    "name": "ipython",
    "version": 2
   },
   "file_extension": ".py",
   "mimetype": "text/x-python",
   "name": "python",
   "nbconvert_exporter": "python",
   "pygments_lexer": "ipython2",
   "version": "2.7.12"
  }
 },
 "nbformat": 4,
 "nbformat_minor": 2
}
